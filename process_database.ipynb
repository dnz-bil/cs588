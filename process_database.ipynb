{
 "cells": [
  {
   "cell_type": "code",
   "execution_count": 1,
   "id": "aa0e1fb8-a957-4061-a961-84cab18cd07d",
   "metadata": {},
   "outputs": [],
   "source": [
    "import pandas as pd"
   ]
  },
  {
   "cell_type": "code",
   "execution_count": 2,
   "id": "dd33202d-8fa6-42b3-a07d-e9f08ed6b254",
   "metadata": {},
   "outputs": [],
   "source": [
    "df = pd.read_csv(\"./clone.csv\")"
   ]
  },
  {
   "cell_type": "code",
   "execution_count": 3,
   "id": "e57c0ff3-53de-492c-9711-61d0b7909f77",
   "metadata": {},
   "outputs": [
    {
     "data": {
      "text/plain": [
       "Index(['function_id_one', 'function_id_two', 'syntactic_type', 'internal',\n",
       "       'pretty_function_one', 'pretty_function_two'],\n",
       "      dtype='object')"
      ]
     },
     "execution_count": 3,
     "metadata": {},
     "output_type": "execute_result"
    }
   ],
   "source": [
    "df.columns"
   ]
  },
  {
   "cell_type": "code",
   "execution_count": 4,
   "id": "872e582f-500c-45cc-9fe6-c6071b3fc551",
   "metadata": {},
   "outputs": [
    {
     "data": {
      "text/html": [
       "<div>\n",
       "<style scoped>\n",
       "    .dataframe tbody tr th:only-of-type {\n",
       "        vertical-align: middle;\n",
       "    }\n",
       "\n",
       "    .dataframe tbody tr th {\n",
       "        vertical-align: top;\n",
       "    }\n",
       "\n",
       "    .dataframe thead th {\n",
       "        text-align: right;\n",
       "    }\n",
       "</style>\n",
       "<table border=\"1\" class=\"dataframe\">\n",
       "  <thead>\n",
       "    <tr style=\"text-align: right;\">\n",
       "      <th></th>\n",
       "      <th>function_id_one</th>\n",
       "      <th>function_id_two</th>\n",
       "      <th>syntactic_type</th>\n",
       "      <th>internal</th>\n",
       "      <th>pretty_function_one</th>\n",
       "      <th>pretty_function_two</th>\n",
       "    </tr>\n",
       "  </thead>\n",
       "  <tbody>\n",
       "    <tr>\n",
       "      <th>0</th>\n",
       "      <td>647224</td>\n",
       "      <td>13563706</td>\n",
       "      <td>3</td>\n",
       "      <td>f</td>\n",
       "      <td>public void uploadFile (File inputFile, String...</td>\n",
       "      <td>public void doGet (HttpServletRequest request,...</td>\n",
       "    </tr>\n",
       "    <tr>\n",
       "      <th>1</th>\n",
       "      <td>13563706</td>\n",
       "      <td>17930256</td>\n",
       "      <td>3</td>\n",
       "      <td>f</td>\n",
       "      <td>public void doGet (HttpServletRequest request,...</td>\n",
       "      <td>private JButton getButtonImagen () {\\n    if (...</td>\n",
       "    </tr>\n",
       "    <tr>\n",
       "      <th>2</th>\n",
       "      <td>1458629</td>\n",
       "      <td>13563706</td>\n",
       "      <td>3</td>\n",
       "      <td>f</td>\n",
       "      <td>public static boolean decodeFileToFile (String...</td>\n",
       "      <td>public void doGet (HttpServletRequest request,...</td>\n",
       "    </tr>\n",
       "    <tr>\n",
       "      <th>3</th>\n",
       "      <td>13563706</td>\n",
       "      <td>22602225</td>\n",
       "      <td>3</td>\n",
       "      <td>f</td>\n",
       "      <td>public void doGet (HttpServletRequest request,...</td>\n",
       "      <td>private static void writeBinaryFile (String fi...</td>\n",
       "    </tr>\n",
       "    <tr>\n",
       "      <th>4</th>\n",
       "      <td>8273323</td>\n",
       "      <td>13563706</td>\n",
       "      <td>3</td>\n",
       "      <td>f</td>\n",
       "      <td>public static String stringOfUrl (String addr)...</td>\n",
       "      <td>public void doGet (HttpServletRequest request,...</td>\n",
       "    </tr>\n",
       "  </tbody>\n",
       "</table>\n",
       "</div>"
      ],
      "text/plain": [
       "   function_id_one  function_id_two  syntactic_type internal  \\\n",
       "0           647224         13563706               3        f   \n",
       "1         13563706         17930256               3        f   \n",
       "2          1458629         13563706               3        f   \n",
       "3         13563706         22602225               3        f   \n",
       "4          8273323         13563706               3        f   \n",
       "\n",
       "                                 pretty_function_one  \\\n",
       "0  public void uploadFile (File inputFile, String...   \n",
       "1  public void doGet (HttpServletRequest request,...   \n",
       "2  public static boolean decodeFileToFile (String...   \n",
       "3  public void doGet (HttpServletRequest request,...   \n",
       "4  public static String stringOfUrl (String addr)...   \n",
       "\n",
       "                                 pretty_function_two  \n",
       "0  public void doGet (HttpServletRequest request,...  \n",
       "1  private JButton getButtonImagen () {\\n    if (...  \n",
       "2  public void doGet (HttpServletRequest request,...  \n",
       "3  private static void writeBinaryFile (String fi...  \n",
       "4  public void doGet (HttpServletRequest request,...  "
      ]
     },
     "execution_count": 4,
     "metadata": {},
     "output_type": "execute_result"
    }
   ],
   "source": [
    "df.head()"
   ]
  },
  {
   "cell_type": "code",
   "execution_count": 5,
   "id": "c8d99e54-9c3f-4edb-997e-d99604aec6a0",
   "metadata": {},
   "outputs": [
    {
     "data": {
      "text/plain": [
       "function_id_one        208840\n",
       "function_id_two        208840\n",
       "syntactic_type         208840\n",
       "internal               208840\n",
       "pretty_function_one    208840\n",
       "pretty_function_two    208840\n",
       "dtype: int64"
      ]
     },
     "execution_count": 5,
     "metadata": {},
     "output_type": "execute_result"
    }
   ],
   "source": [
    "df.loc[df['internal'] == 't'].count()"
   ]
  },
  {
   "cell_type": "code",
   "execution_count": 6,
   "id": "1b7241b7-1318-4c95-9b38-597118c65a9f",
   "metadata": {},
   "outputs": [
    {
     "data": {
      "text/plain": [
       "function_id_one        8375313\n",
       "function_id_two        8375313\n",
       "syntactic_type         8375313\n",
       "internal               8375313\n",
       "pretty_function_one    8375313\n",
       "pretty_function_two    8375313\n",
       "dtype: int64"
      ]
     },
     "execution_count": 6,
     "metadata": {},
     "output_type": "execute_result"
    }
   ],
   "source": [
    "df.loc[df['internal'] == 'f'].count()"
   ]
  },
  {
   "cell_type": "code",
   "execution_count": 7,
   "id": "cbc1cd04-e093-47e5-9800-6fe8c3a9b2d0",
   "metadata": {},
   "outputs": [
    {
     "data": {
      "text/plain": [
       "syntactic_type\n",
       "3    8531803\n",
       "1      48116\n",
       "2       4234\n",
       "Name: count, dtype: int64"
      ]
     },
     "execution_count": 7,
     "metadata": {},
     "output_type": "execute_result"
    }
   ],
   "source": [
    "df['syntactic_type'].value_counts()"
   ]
  },
  {
   "cell_type": "code",
   "execution_count": 8,
   "id": "ab16e98d-9ad0-4c8b-aff8-789c3e0201dd",
   "metadata": {},
   "outputs": [
    {
     "data": {
      "text/plain": [
       "function_id_one\n",
       "160739      4382\n",
       "413620      4278\n",
       "418257      4273\n",
       "427727      4269\n",
       "598994      4212\n",
       "            ... \n",
       "23677120       1\n",
       "23677131       1\n",
       "23677152       1\n",
       "4427895        1\n",
       "23677222       1\n",
       "Name: count, Length: 14737, dtype: int64"
      ]
     },
     "execution_count": 8,
     "metadata": {},
     "output_type": "execute_result"
    }
   ],
   "source": [
    "df['function_id_one'].value_counts()"
   ]
  },
  {
   "cell_type": "code",
   "execution_count": 9,
   "id": "1f276ccf-a22a-463b-a4b3-f854382f6f9b",
   "metadata": {},
   "outputs": [
    {
     "data": {
      "text/plain": [
       "function_id_two\n",
       "23647453    4432\n",
       "23634465    4428\n",
       "23383764    4378\n",
       "23188868    4334\n",
       "23099329    4323\n",
       "            ... \n",
       "67506          1\n",
       "1246           1\n",
       "10942          1\n",
       "45708          1\n",
       "2746           1\n",
       "Name: count, Length: 14739, dtype: int64"
      ]
     },
     "execution_count": 9,
     "metadata": {},
     "output_type": "execute_result"
    }
   ],
   "source": [
    "df['function_id_two'].value_counts()"
   ]
  },
  {
   "cell_type": "code",
   "execution_count": null,
   "id": "a467a575-377e-46a1-af3d-6b7cf430b2ed",
   "metadata": {},
   "outputs": [],
   "source": []
  }
 ],
 "metadata": {
  "kernelspec": {
   "display_name": "Python 3 (ipykernel)",
   "language": "python",
   "name": "python3"
  },
  "language_info": {
   "codemirror_mode": {
    "name": "ipython",
    "version": 3
   },
   "file_extension": ".py",
   "mimetype": "text/x-python",
   "name": "python",
   "nbconvert_exporter": "python",
   "pygments_lexer": "ipython3",
   "version": "3.9.18"
  }
 },
 "nbformat": 4,
 "nbformat_minor": 5
}
